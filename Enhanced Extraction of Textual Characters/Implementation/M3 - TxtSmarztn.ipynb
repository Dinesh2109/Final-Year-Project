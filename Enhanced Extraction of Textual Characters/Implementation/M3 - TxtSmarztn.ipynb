{
 "cells": [
  {
   "cell_type": "markdown",
   "id": "f72ab77e",
   "metadata": {},
   "source": [
    "### Importing warnings for ignoring any warnings."
   ]
  },
  {
   "cell_type": "code",
   "execution_count": 1,
   "id": "c2517308",
   "metadata": {},
   "outputs": [],
   "source": [
    "import warnings\n",
    "warnings.filterwarnings('ignore')"
   ]
  },
  {
   "cell_type": "markdown",
   "id": "12712db8",
   "metadata": {},
   "source": [
    "## Importing Packages for text Summarization"
   ]
  },
  {
   "cell_type": "code",
   "execution_count": 2,
   "id": "7037cbe1",
   "metadata": {},
   "outputs": [],
   "source": [
    "#!pip install -U spacy "
   ]
  },
  {
   "cell_type": "markdown",
   "id": "c2168905",
   "metadata": {},
   "source": [
    "#### SpaCy is used for Natural language Processing"
   ]
  },
  {
   "cell_type": "code",
   "execution_count": 3,
   "id": "16e0e759",
   "metadata": {},
   "outputs": [],
   "source": [
    "import spacy"
   ]
  },
  {
   "cell_type": "markdown",
   "id": "bfe958c8",
   "metadata": {},
   "source": [
    "#### STOP_WORDS is a set of default stop words for English language model in SpaCy."
   ]
  },
  {
   "cell_type": "code",
   "execution_count": 4,
   "id": "1b4c44da",
   "metadata": {},
   "outputs": [],
   "source": [
    "from spacy.lang.en.stop_words import STOP_WORDS\n",
    "from string import punctuation"
   ]
  },
  {
   "cell_type": "markdown",
   "id": "07fc532b",
   "metadata": {},
   "source": [
    "#### Downloading en_core_web_sm, this will return a language object nlp containing all components and data needed to process text."
   ]
  },
  {
   "cell_type": "code",
   "execution_count": 5,
   "id": "344e863b",
   "metadata": {
    "scrolled": true
   },
   "outputs": [],
   "source": [
    "#!python -m spacy download en_core_web_sm"
   ]
  },
  {
   "cell_type": "markdown",
   "id": "701eff62",
   "metadata": {},
   "source": [
    "#### Loading STOP_WORDS into stopwords"
   ]
  },
  {
   "cell_type": "code",
   "execution_count": 6,
   "id": "0ad5e26a",
   "metadata": {},
   "outputs": [],
   "source": [
    "stopwords=list(STOP_WORDS)"
   ]
  },
  {
   "cell_type": "markdown",
   "id": "7c76c284",
   "metadata": {},
   "source": [
    "#### This will return a language object nlp containing all components and data needed to process text."
   ]
  },
  {
   "cell_type": "code",
   "execution_count": 7,
   "id": "46f9e05f",
   "metadata": {},
   "outputs": [],
   "source": [
    "nlp=spacy.load(\"en_core_web_sm\")"
   ]
  },
  {
   "cell_type": "markdown",
   "id": "d8737bfc",
   "metadata": {},
   "source": [
    "#### Copy and Paste The Text For Summarization"
   ]
  },
  {
   "cell_type": "code",
   "execution_count": 8,
   "id": "66702e41",
   "metadata": {},
   "outputs": [
    {
     "name": "stdout",
     "output_type": "stream",
     "text": [
      "Hitler was born in Braunau am Inn in Austria-Hungary and was raised near Linz. He lived in Vienna later in the first decade of the 1900s and moved to Germany in 1913. He was decorated during his service in the German Army in World War I. In 1919, he joined the German Workers' Party (DAP), the precursor of the Nazi Party, and was appointed leader of the Nazi Party in 1921. In 1923, he attempted to seize governmental power in a failed coup in Munich and was imprisoned with a sentence of five years. In jail, he dictated the first volume of his autobiography and political manifesto Mein Kampf (\"My Struggle\"). After his early release in 1924, Hitler gained popular support by attacking the Treaty of Versailles and promoting pan-Germanism, anti-Semitism and anti-communism with charismatic oratory and Nazi propaganda. He frequently denounced international capitalism and communism as part of a Jewish conspiracy.  By November 1932, the Nazi Party held the most seats in the German Reichstag but did not have a majority. As a result, no party was able to form a majority parliamentary coalition in support of a candidate for chancellor. The former chancellor Franz von Papen and other conservative leaders persuaded President Paul von Hindenburg to appoint Hitler as chancellor on 30 January 1933. Shortly after, the Reichstag passed the Enabling Act of 1933 which began the process of transforming the Weimar Republic into Nazi Germany, a one-party dictatorship based on the totalitarian and autocratic ideology of Nazism. On 2 August 1934, Hindenburg died and Hitler replaced him as the head of state and government. Hitler aimed to eliminate Jews from Germany and establish a New Order to counter what he saw as the injustice of the post-World War I international order dominated by Britain and France. His first six years in power resulted in rapid economic recovery from the Great Depression, the abrogation of restrictions imposed on Germany after World War I, and the annexation of territories inhabited by millions of ethnic Germans, which initially gave him significant popular support.  Hitler sought Lebensraum (lit. 'living space') for the German people in Eastern Europe, and his aggressive foreign policy is considered the primary cause of World War II in Europe. He directed large-scale rearmament and, on 1 September 1939, invaded Poland, resulting in Britain and France declaring war on Germany. In June 1941, Hitler ordered an invasion of the Soviet Union. In December 1941, he declared war on the United States. By the end of 1941, German forces and the European Axis powers occupied most of Europe and North Africa. These gains were gradually reversed after 1941, and in 1945 the Allied armies defeated the German army. On 29 April 1945, he married his longtime lover, Eva Braun, in the Führerbunker in Berlin. Less than two days later, the couple committed suicide to avoid capture by the Soviet Red Army. Their corpses were burned as Hitler had commanded.  The historian and biographer Ian Kershaw describes Hitler as \"the embodiment of modern political evil\".[4] Under Hitler's leadership and racist ideology, the Nazi regime was responsible for the genocide of about six million Jews and millions of other victims, whom he and his followers deemed Untermenschen (subhumans) or socially undesirable. Hitler and the Nazi regime were also responsible for the killing of an estimated 19.3 million civilians and prisoners of war. In addition, 28.7 million soldiers and civilians died as a result of military action in the European theatre. The number of civilians killed during World War II was unprecedented in warfare, and the casualties constitute the deadliest conflict in history.\n"
     ]
    }
   ],
   "source": [
    "text=input(\"\"\"\"\"\")"
   ]
  },
  {
   "cell_type": "markdown",
   "id": "45b200cc",
   "metadata": {},
   "source": [
    "#### By calling the nlp object on a string of text will return a processed doc"
   ]
  },
  {
   "cell_type": "code",
   "execution_count": 9,
   "id": "1ec9cdec",
   "metadata": {},
   "outputs": [],
   "source": [
    "doc=nlp(text)"
   ]
  },
  {
   "cell_type": "markdown",
   "id": "00c25ebc",
   "metadata": {},
   "source": [
    "#### First we need to tokenize the the segments that is word tokenizing"
   ]
  },
  {
   "cell_type": "code",
   "execution_count": 10,
   "id": "0909efc4",
   "metadata": {},
   "outputs": [],
   "source": [
    "tokens = [token.text for token in doc]"
   ]
  },
  {
   "cell_type": "code",
   "execution_count": 11,
   "id": "2690bfe8",
   "metadata": {
    "scrolled": true
   },
   "outputs": [
    {
     "name": "stdout",
     "output_type": "stream",
     "text": [
      "['Hitler', 'was', 'born', 'in', 'Braunau', 'am', 'Inn', 'in', 'Austria', '-', 'Hungary', 'and', 'was', 'raised', 'near', 'Linz', '.', 'He', 'lived', 'in', 'Vienna', 'later', 'in', 'the', 'first', 'decade', 'of', 'the', '1900s', 'and', 'moved', 'to', 'Germany', 'in', '1913', '.', 'He', 'was', 'decorated', 'during', 'his', 'service', 'in', 'the', 'German', 'Army', 'in', 'World', 'War', 'I.', 'In', '1919', ',', 'he', 'joined', 'the', 'German', 'Workers', \"'\", 'Party', '(', 'DAP', ')', ',', 'the', 'precursor', 'of', 'the', 'Nazi', 'Party', ',', 'and', 'was', 'appointed', 'leader', 'of', 'the', 'Nazi', 'Party', 'in', '1921', '.', 'In', '1923', ',', 'he', 'attempted', 'to', 'seize', 'governmental', 'power', 'in', 'a', 'failed', 'coup', 'in', 'Munich', 'and', 'was', 'imprisoned', 'with', 'a', 'sentence', 'of', 'five', 'years', '.', 'In', 'jail', ',', 'he', 'dictated', 'the', 'first', 'volume', 'of', 'his', 'autobiography', 'and', 'political', 'manifesto', 'Mein', 'Kampf', '(', '\"', 'My', 'Struggle', '\"', ')', '.', 'After', 'his', 'early', 'release', 'in', '1924', ',', 'Hitler', 'gained', 'popular', 'support', 'by', 'attacking', 'the', 'Treaty', 'of', 'Versailles', 'and', 'promoting', 'pan', '-', 'Germanism', ',', 'anti', '-', 'Semitism', 'and', 'anti', '-', 'communism', 'with', 'charismatic', 'oratory', 'and', 'Nazi', 'propaganda', '.', 'He', 'frequently', 'denounced', 'international', 'capitalism', 'and', 'communism', 'as', 'part', 'of', 'a', 'Jewish', 'conspiracy', '.', ' ', 'By', 'November', '1932', ',', 'the', 'Nazi', 'Party', 'held', 'the', 'most', 'seats', 'in', 'the', 'German', 'Reichstag', 'but', 'did', 'not', 'have', 'a', 'majority', '.', 'As', 'a', 'result', ',', 'no', 'party', 'was', 'able', 'to', 'form', 'a', 'majority', 'parliamentary', 'coalition', 'in', 'support', 'of', 'a', 'candidate', 'for', 'chancellor', '.', 'The', 'former', 'chancellor', 'Franz', 'von', 'Papen', 'and', 'other', 'conservative', 'leaders', 'persuaded', 'President', 'Paul', 'von', 'Hindenburg', 'to', 'appoint', 'Hitler', 'as', 'chancellor', 'on', '30', 'January', '1933', '.', 'Shortly', 'after', ',', 'the', 'Reichstag', 'passed', 'the', 'Enabling', 'Act', 'of', '1933', 'which', 'began', 'the', 'process', 'of', 'transforming', 'the', 'Weimar', 'Republic', 'into', 'Nazi', 'Germany', ',', 'a', 'one', '-', 'party', 'dictatorship', 'based', 'on', 'the', 'totalitarian', 'and', 'autocratic', 'ideology', 'of', 'Nazism', '.', 'On', '2', 'August', '1934', ',', 'Hindenburg', 'died', 'and', 'Hitler', 'replaced', 'him', 'as', 'the', 'head', 'of', 'state', 'and', 'government', '.', 'Hitler', 'aimed', 'to', 'eliminate', 'Jews', 'from', 'Germany', 'and', 'establish', 'a', 'New', 'Order', 'to', 'counter', 'what', 'he', 'saw', 'as', 'the', 'injustice', 'of', 'the', 'post', '-', 'World', 'War', 'I', 'international', 'order', 'dominated', 'by', 'Britain', 'and', 'France', '.', 'His', 'first', 'six', 'years', 'in', 'power', 'resulted', 'in', 'rapid', 'economic', 'recovery', 'from', 'the', 'Great', 'Depression', ',', 'the', 'abrogation', 'of', 'restrictions', 'imposed', 'on', 'Germany', 'after', 'World', 'War', 'I', ',', 'and', 'the', 'annexation', 'of', 'territories', 'inhabited', 'by', 'millions', 'of', 'ethnic', 'Germans', ',', 'which', 'initially', 'gave', 'him', 'significant', 'popular', 'support', '.', ' ', 'Hitler', 'sought', 'Lebensraum', '(', 'lit', '.', '\\u2009', \"'\", 'living', 'space', \"'\", ')', 'for', 'the', 'German', 'people', 'in', 'Eastern', 'Europe', ',', 'and', 'his', 'aggressive', 'foreign', 'policy', 'is', 'considered', 'the', 'primary', 'cause', 'of', 'World', 'War', 'II', 'in', 'Europe', '.', 'He', 'directed', 'large', '-', 'scale', 'rearmament', 'and', ',', 'on', '1', 'September', '1939', ',', 'invaded', 'Poland', ',', 'resulting', 'in', 'Britain', 'and', 'France', 'declaring', 'war', 'on', 'Germany', '.', 'In', 'June', '1941', ',', 'Hitler', 'ordered', 'an', 'invasion', 'of', 'the', 'Soviet', 'Union', '.', 'In', 'December', '1941', ',', 'he', 'declared', 'war', 'on', 'the', 'United', 'States', '.', 'By', 'the', 'end', 'of', '1941', ',', 'German', 'forces', 'and', 'the', 'European', 'Axis', 'powers', 'occupied', 'most', 'of', 'Europe', 'and', 'North', 'Africa', '.', 'These', 'gains', 'were', 'gradually', 'reversed', 'after', '1941', ',', 'and', 'in', '1945', 'the', 'Allied', 'armies', 'defeated', 'the', 'German', 'army', '.', 'On', '29', 'April', '1945', ',', 'he', 'married', 'his', 'longtime', 'lover', ',', 'Eva', 'Braun', ',', 'in', 'the', 'Führerbunker', 'in', 'Berlin', '.', 'Less', 'than', 'two', 'days', 'later', ',', 'the', 'couple', 'committed', 'suicide', 'to', 'avoid', 'capture', 'by', 'the', 'Soviet', 'Red', 'Army', '.', 'Their', 'corpses', 'were', 'burned', 'as', 'Hitler', 'had', 'commanded', '.', ' ', 'The', 'historian', 'and', 'biographer', 'Ian', 'Kershaw', 'describes', 'Hitler', 'as', '\"', 'the', 'embodiment', 'of', 'modern', 'political', 'evil\".[4', ']', 'Under', 'Hitler', \"'s\", 'leadership', 'and', 'racist', 'ideology', ',', 'the', 'Nazi', 'regime', 'was', 'responsible', 'for', 'the', 'genocide', 'of', 'about', 'six', 'million', 'Jews', 'and', 'millions', 'of', 'other', 'victims', ',', 'whom', 'he', 'and', 'his', 'followers', 'deemed', 'Untermenschen', '(', 'subhumans', ')', 'or', 'socially', 'undesirable', '.', 'Hitler', 'and', 'the', 'Nazi', 'regime', 'were', 'also', 'responsible', 'for', 'the', 'killing', 'of', 'an', 'estimated', '19.3', 'million', 'civilians', 'and', 'prisoners', 'of', 'war', '.', 'In', 'addition', ',', '28.7', 'million', 'soldiers', 'and', 'civilians', 'died', 'as', 'a', 'result', 'of', 'military', 'action', 'in', 'the', 'European', 'theatre', '.', 'The', 'number', 'of', 'civilians', 'killed', 'during', 'World', 'War', 'II', 'was', 'unprecedented', 'in', 'warfare', ',', 'and', 'the', 'casualties', 'constitute', 'the', 'deadliest', 'conflict', 'in', 'history', '.']\n"
     ]
    }
   ],
   "source": [
    "print(tokens)"
   ]
  },
  {
   "cell_type": "markdown",
   "id": "29e0a1fe",
   "metadata": {},
   "source": [
    "#### Dumping punctuations in a variable from a punctuation package"
   ]
  },
  {
   "cell_type": "code",
   "execution_count": 12,
   "id": "288e1446",
   "metadata": {},
   "outputs": [
    {
     "data": {
      "text/plain": [
       "'!\"#$%&\\'()*+,-./:;<=>?@[\\\\]^_`{|}~\\n'"
      ]
     },
     "execution_count": 12,
     "metadata": {},
     "output_type": "execute_result"
    }
   ],
   "source": [
    "punctuation = punctuation + '\\n'\n",
    "punctuation"
   ]
  },
  {
   "cell_type": "markdown",
   "id": "8b997771",
   "metadata": {},
   "source": [
    "#### Here we do "
   ]
  },
  {
   "cell_type": "code",
   "execution_count": 13,
   "id": "d79f40e0",
   "metadata": {},
   "outputs": [
    {
     "name": "stdout",
     "output_type": "stream",
     "text": [
      "{'Hitler': 11, 'born': 1, 'Braunau': 1, 'Inn': 1, 'Austria': 1, 'Hungary': 1, 'raised': 1, 'near': 1, 'Linz': 1, 'lived': 1, 'Vienna': 1, 'later': 2, 'decade': 1, '1900s': 1, 'moved': 1, 'Germany': 5, '1913': 1, 'decorated': 1, 'service': 1, 'German': 6, 'Army': 2, 'World': 5, 'War': 5, 'I.': 1, '1919': 1, 'joined': 1, 'Workers': 1, 'Party': 4, 'DAP': 1, 'precursor': 1, 'Nazi': 7, 'appointed': 1, 'leader': 1, '1921': 1, '1923': 1, 'attempted': 1, 'seize': 1, 'governmental': 1, 'power': 2, 'failed': 1, 'coup': 1, 'Munich': 1, 'imprisoned': 1, 'sentence': 1, 'years': 2, 'jail': 1, 'dictated': 1, 'volume': 1, 'autobiography': 1, 'political': 2, 'manifesto': 1, 'Mein': 1, 'Kampf': 1, 'Struggle': 1, 'early': 1, 'release': 1, '1924': 1, 'gained': 1, 'popular': 2, 'support': 3, 'attacking': 1, 'Treaty': 1, 'Versailles': 1, 'promoting': 1, 'pan': 1, 'Germanism': 1, 'anti': 2, 'Semitism': 1, 'communism': 2, 'charismatic': 1, 'oratory': 1, 'propaganda': 1, 'frequently': 1, 'denounced': 1, 'international': 2, 'capitalism': 1, 'Jewish': 1, 'conspiracy': 1, ' ': 3, 'November': 1, '1932': 1, 'held': 1, 'seats': 1, 'Reichstag': 2, 'majority': 2, 'result': 2, 'party': 2, 'able': 1, 'form': 1, 'parliamentary': 1, 'coalition': 1, 'candidate': 1, 'chancellor': 3, 'Franz': 1, 'von': 2, 'Papen': 1, 'conservative': 1, 'leaders': 1, 'persuaded': 1, 'President': 1, 'Paul': 1, 'Hindenburg': 2, 'appoint': 1, '30': 1, 'January': 1, '1933': 2, 'Shortly': 1, 'passed': 1, 'Enabling': 1, 'Act': 1, 'began': 1, 'process': 1, 'transforming': 1, 'Weimar': 1, 'Republic': 1, 'dictatorship': 1, 'based': 1, 'totalitarian': 1, 'autocratic': 1, 'ideology': 2, 'Nazism': 1, '2': 1, 'August': 1, '1934': 1, 'died': 2, 'replaced': 1, 'head': 1, 'state': 1, 'government': 1, 'aimed': 1, 'eliminate': 1, 'Jews': 2, 'establish': 1, 'New': 1, 'Order': 1, 'counter': 1, 'saw': 1, 'injustice': 1, 'post': 1, 'order': 1, 'dominated': 1, 'Britain': 2, 'France': 2, 'resulted': 1, 'rapid': 1, 'economic': 1, 'recovery': 1, 'Great': 1, 'Depression': 1, 'abrogation': 1, 'restrictions': 1, 'imposed': 1, 'annexation': 1, 'territories': 1, 'inhabited': 1, 'millions': 2, 'ethnic': 1, 'Germans': 1, 'initially': 1, 'gave': 1, 'significant': 1, 'sought': 1, 'Lebensraum': 1, 'lit': 1, '\\u2009': 1, 'living': 1, 'space': 1, 'people': 1, 'Eastern': 1, 'Europe': 3, 'aggressive': 1, 'foreign': 1, 'policy': 1, 'considered': 1, 'primary': 1, 'cause': 1, 'II': 2, 'directed': 1, 'large': 1, 'scale': 1, 'rearmament': 1, '1': 1, 'September': 1, '1939': 1, 'invaded': 1, 'Poland': 1, 'resulting': 1, 'declaring': 1, 'war': 3, 'June': 1, '1941': 4, 'ordered': 1, 'invasion': 1, 'Soviet': 2, 'Union': 1, 'December': 1, 'declared': 1, 'United': 1, 'States': 1, 'end': 1, 'forces': 1, 'European': 2, 'Axis': 1, 'powers': 1, 'occupied': 1, 'North': 1, 'Africa': 1, 'gains': 1, 'gradually': 1, 'reversed': 1, '1945': 2, 'Allied': 1, 'armies': 1, 'defeated': 1, 'army': 1, '29': 1, 'April': 1, 'married': 1, 'longtime': 1, 'lover': 1, 'Eva': 1, 'Braun': 1, 'Führerbunker': 1, 'Berlin': 1, 'days': 1, 'couple': 1, 'committed': 1, 'suicide': 1, 'avoid': 1, 'capture': 1, 'Red': 1, 'corpses': 1, 'burned': 1, 'commanded': 1, 'historian': 1, 'biographer': 1, 'Ian': 1, 'Kershaw': 1, 'describes': 1, 'embodiment': 1, 'modern': 1, 'evil\".[4': 1, 'leadership': 1, 'racist': 1, 'regime': 2, 'responsible': 2, 'genocide': 1, 'million': 3, 'victims': 1, 'followers': 1, 'deemed': 1, 'Untermenschen': 1, 'subhumans': 1, 'socially': 1, 'undesirable': 1, 'killing': 1, 'estimated': 1, '19.3': 1, 'civilians': 3, 'prisoners': 1, 'addition': 1, '28.7': 1, 'soldiers': 1, 'military': 1, 'action': 1, 'theatre': 1, 'number': 1, 'killed': 1, 'unprecedented': 1, 'warfare': 1, 'casualties': 1, 'constitute': 1, 'deadliest': 1, 'conflict': 1, 'history': 1}\n"
     ]
    }
   ],
   "source": [
    "word_frequencies = {}\n",
    "for word in doc:\n",
    "    if word.text.lower() not in stopwords:\n",
    "        if word.text.lower() not in punctuation:\n",
    "            if word.text not in word_frequencies.keys():\n",
    "                word_frequencies[word.text] = 1\n",
    "            else:\n",
    "                word_frequencies[word.text] += 1\n",
    "                \n",
    "print(word_frequencies)"
   ]
  },
  {
   "cell_type": "code",
   "execution_count": 14,
   "id": "dafbffc8",
   "metadata": {},
   "outputs": [
    {
     "data": {
      "text/plain": [
       "11"
      ]
     },
     "execution_count": 14,
     "metadata": {},
     "output_type": "execute_result"
    }
   ],
   "source": [
    "max_frequency = max(word_frequencies.values())\n",
    "max_frequency"
   ]
  },
  {
   "cell_type": "code",
   "execution_count": 15,
   "id": "f5986274",
   "metadata": {},
   "outputs": [
    {
     "name": "stdout",
     "output_type": "stream",
     "text": [
      "{'Hitler': 1.0, 'born': 0.09090909090909091, 'Braunau': 0.09090909090909091, 'Inn': 0.09090909090909091, 'Austria': 0.09090909090909091, 'Hungary': 0.09090909090909091, 'raised': 0.09090909090909091, 'near': 0.09090909090909091, 'Linz': 0.09090909090909091, 'lived': 0.09090909090909091, 'Vienna': 0.09090909090909091, 'later': 0.18181818181818182, 'decade': 0.09090909090909091, '1900s': 0.09090909090909091, 'moved': 0.09090909090909091, 'Germany': 0.45454545454545453, '1913': 0.09090909090909091, 'decorated': 0.09090909090909091, 'service': 0.09090909090909091, 'German': 0.5454545454545454, 'Army': 0.18181818181818182, 'World': 0.45454545454545453, 'War': 0.45454545454545453, 'I.': 0.09090909090909091, '1919': 0.09090909090909091, 'joined': 0.09090909090909091, 'Workers': 0.09090909090909091, 'Party': 0.36363636363636365, 'DAP': 0.09090909090909091, 'precursor': 0.09090909090909091, 'Nazi': 0.6363636363636364, 'appointed': 0.09090909090909091, 'leader': 0.09090909090909091, '1921': 0.09090909090909091, '1923': 0.09090909090909091, 'attempted': 0.09090909090909091, 'seize': 0.09090909090909091, 'governmental': 0.09090909090909091, 'power': 0.18181818181818182, 'failed': 0.09090909090909091, 'coup': 0.09090909090909091, 'Munich': 0.09090909090909091, 'imprisoned': 0.09090909090909091, 'sentence': 0.09090909090909091, 'years': 0.18181818181818182, 'jail': 0.09090909090909091, 'dictated': 0.09090909090909091, 'volume': 0.09090909090909091, 'autobiography': 0.09090909090909091, 'political': 0.18181818181818182, 'manifesto': 0.09090909090909091, 'Mein': 0.09090909090909091, 'Kampf': 0.09090909090909091, 'Struggle': 0.09090909090909091, 'early': 0.09090909090909091, 'release': 0.09090909090909091, '1924': 0.09090909090909091, 'gained': 0.09090909090909091, 'popular': 0.18181818181818182, 'support': 0.2727272727272727, 'attacking': 0.09090909090909091, 'Treaty': 0.09090909090909091, 'Versailles': 0.09090909090909091, 'promoting': 0.09090909090909091, 'pan': 0.09090909090909091, 'Germanism': 0.09090909090909091, 'anti': 0.18181818181818182, 'Semitism': 0.09090909090909091, 'communism': 0.18181818181818182, 'charismatic': 0.09090909090909091, 'oratory': 0.09090909090909091, 'propaganda': 0.09090909090909091, 'frequently': 0.09090909090909091, 'denounced': 0.09090909090909091, 'international': 0.18181818181818182, 'capitalism': 0.09090909090909091, 'Jewish': 0.09090909090909091, 'conspiracy': 0.09090909090909091, ' ': 0.2727272727272727, 'November': 0.09090909090909091, '1932': 0.09090909090909091, 'held': 0.09090909090909091, 'seats': 0.09090909090909091, 'Reichstag': 0.18181818181818182, 'majority': 0.18181818181818182, 'result': 0.18181818181818182, 'party': 0.18181818181818182, 'able': 0.09090909090909091, 'form': 0.09090909090909091, 'parliamentary': 0.09090909090909091, 'coalition': 0.09090909090909091, 'candidate': 0.09090909090909091, 'chancellor': 0.2727272727272727, 'Franz': 0.09090909090909091, 'von': 0.18181818181818182, 'Papen': 0.09090909090909091, 'conservative': 0.09090909090909091, 'leaders': 0.09090909090909091, 'persuaded': 0.09090909090909091, 'President': 0.09090909090909091, 'Paul': 0.09090909090909091, 'Hindenburg': 0.18181818181818182, 'appoint': 0.09090909090909091, '30': 0.09090909090909091, 'January': 0.09090909090909091, '1933': 0.18181818181818182, 'Shortly': 0.09090909090909091, 'passed': 0.09090909090909091, 'Enabling': 0.09090909090909091, 'Act': 0.09090909090909091, 'began': 0.09090909090909091, 'process': 0.09090909090909091, 'transforming': 0.09090909090909091, 'Weimar': 0.09090909090909091, 'Republic': 0.09090909090909091, 'dictatorship': 0.09090909090909091, 'based': 0.09090909090909091, 'totalitarian': 0.09090909090909091, 'autocratic': 0.09090909090909091, 'ideology': 0.18181818181818182, 'Nazism': 0.09090909090909091, '2': 0.09090909090909091, 'August': 0.09090909090909091, '1934': 0.09090909090909091, 'died': 0.18181818181818182, 'replaced': 0.09090909090909091, 'head': 0.09090909090909091, 'state': 0.09090909090909091, 'government': 0.09090909090909091, 'aimed': 0.09090909090909091, 'eliminate': 0.09090909090909091, 'Jews': 0.18181818181818182, 'establish': 0.09090909090909091, 'New': 0.09090909090909091, 'Order': 0.09090909090909091, 'counter': 0.09090909090909091, 'saw': 0.09090909090909091, 'injustice': 0.09090909090909091, 'post': 0.09090909090909091, 'order': 0.09090909090909091, 'dominated': 0.09090909090909091, 'Britain': 0.18181818181818182, 'France': 0.18181818181818182, 'resulted': 0.09090909090909091, 'rapid': 0.09090909090909091, 'economic': 0.09090909090909091, 'recovery': 0.09090909090909091, 'Great': 0.09090909090909091, 'Depression': 0.09090909090909091, 'abrogation': 0.09090909090909091, 'restrictions': 0.09090909090909091, 'imposed': 0.09090909090909091, 'annexation': 0.09090909090909091, 'territories': 0.09090909090909091, 'inhabited': 0.09090909090909091, 'millions': 0.18181818181818182, 'ethnic': 0.09090909090909091, 'Germans': 0.09090909090909091, 'initially': 0.09090909090909091, 'gave': 0.09090909090909091, 'significant': 0.09090909090909091, 'sought': 0.09090909090909091, 'Lebensraum': 0.09090909090909091, 'lit': 0.09090909090909091, '\\u2009': 0.09090909090909091, 'living': 0.09090909090909091, 'space': 0.09090909090909091, 'people': 0.09090909090909091, 'Eastern': 0.09090909090909091, 'Europe': 0.2727272727272727, 'aggressive': 0.09090909090909091, 'foreign': 0.09090909090909091, 'policy': 0.09090909090909091, 'considered': 0.09090909090909091, 'primary': 0.09090909090909091, 'cause': 0.09090909090909091, 'II': 0.18181818181818182, 'directed': 0.09090909090909091, 'large': 0.09090909090909091, 'scale': 0.09090909090909091, 'rearmament': 0.09090909090909091, '1': 0.09090909090909091, 'September': 0.09090909090909091, '1939': 0.09090909090909091, 'invaded': 0.09090909090909091, 'Poland': 0.09090909090909091, 'resulting': 0.09090909090909091, 'declaring': 0.09090909090909091, 'war': 0.2727272727272727, 'June': 0.09090909090909091, '1941': 0.36363636363636365, 'ordered': 0.09090909090909091, 'invasion': 0.09090909090909091, 'Soviet': 0.18181818181818182, 'Union': 0.09090909090909091, 'December': 0.09090909090909091, 'declared': 0.09090909090909091, 'United': 0.09090909090909091, 'States': 0.09090909090909091, 'end': 0.09090909090909091, 'forces': 0.09090909090909091, 'European': 0.18181818181818182, 'Axis': 0.09090909090909091, 'powers': 0.09090909090909091, 'occupied': 0.09090909090909091, 'North': 0.09090909090909091, 'Africa': 0.09090909090909091, 'gains': 0.09090909090909091, 'gradually': 0.09090909090909091, 'reversed': 0.09090909090909091, '1945': 0.18181818181818182, 'Allied': 0.09090909090909091, 'armies': 0.09090909090909091, 'defeated': 0.09090909090909091, 'army': 0.09090909090909091, '29': 0.09090909090909091, 'April': 0.09090909090909091, 'married': 0.09090909090909091, 'longtime': 0.09090909090909091, 'lover': 0.09090909090909091, 'Eva': 0.09090909090909091, 'Braun': 0.09090909090909091, 'Führerbunker': 0.09090909090909091, 'Berlin': 0.09090909090909091, 'days': 0.09090909090909091, 'couple': 0.09090909090909091, 'committed': 0.09090909090909091, 'suicide': 0.09090909090909091, 'avoid': 0.09090909090909091, 'capture': 0.09090909090909091, 'Red': 0.09090909090909091, 'corpses': 0.09090909090909091, 'burned': 0.09090909090909091, 'commanded': 0.09090909090909091, 'historian': 0.09090909090909091, 'biographer': 0.09090909090909091, 'Ian': 0.09090909090909091, 'Kershaw': 0.09090909090909091, 'describes': 0.09090909090909091, 'embodiment': 0.09090909090909091, 'modern': 0.09090909090909091, 'evil\".[4': 0.09090909090909091, 'leadership': 0.09090909090909091, 'racist': 0.09090909090909091, 'regime': 0.18181818181818182, 'responsible': 0.18181818181818182, 'genocide': 0.09090909090909091, 'million': 0.2727272727272727, 'victims': 0.09090909090909091, 'followers': 0.09090909090909091, 'deemed': 0.09090909090909091, 'Untermenschen': 0.09090909090909091, 'subhumans': 0.09090909090909091, 'socially': 0.09090909090909091, 'undesirable': 0.09090909090909091, 'killing': 0.09090909090909091, 'estimated': 0.09090909090909091, '19.3': 0.09090909090909091, 'civilians': 0.2727272727272727, 'prisoners': 0.09090909090909091, 'addition': 0.09090909090909091, '28.7': 0.09090909090909091, 'soldiers': 0.09090909090909091, 'military': 0.09090909090909091, 'action': 0.09090909090909091, 'theatre': 0.09090909090909091, 'number': 0.09090909090909091, 'killed': 0.09090909090909091, 'unprecedented': 0.09090909090909091, 'warfare': 0.09090909090909091, 'casualties': 0.09090909090909091, 'constitute': 0.09090909090909091, 'deadliest': 0.09090909090909091, 'conflict': 0.09090909090909091, 'history': 0.09090909090909091}\n"
     ]
    }
   ],
   "source": [
    "for word in word_frequencies.keys():\n",
    "    word_frequencies[word] = word_frequencies[word]/max_frequency\n",
    "\n",
    "print(word_frequencies)"
   ]
  },
  {
   "cell_type": "code",
   "execution_count": 16,
   "id": "17382a96",
   "metadata": {},
   "outputs": [
    {
     "name": "stdout",
     "output_type": "stream",
     "text": [
      "[Hitler was born in Braunau am Inn in Austria-Hungary and was raised near Linz., He lived in Vienna later in the first decade of the 1900s and moved to Germany in 1913., He was decorated during his service in the German Army in World War I. In 1919, he joined the German Workers' Party (DAP), the precursor of the Nazi Party, and was appointed leader of the Nazi Party in 1921., In 1923, he attempted to seize governmental power in a failed coup in Munich and was imprisoned with a sentence of five years., In jail, he dictated the first volume of his autobiography and political manifesto Mein Kampf (\"My Struggle\")., After his early release in 1924, Hitler gained popular support by attacking the Treaty of Versailles and promoting pan-Germanism, anti-Semitism and anti-communism with charismatic oratory and Nazi propaganda., He frequently denounced international capitalism and communism as part of a Jewish conspiracy.  , By November 1932, the Nazi Party held the most seats in the German Reichstag but did not have a majority., As a result, no party was able to form a majority parliamentary coalition in support of a candidate for chancellor., The former chancellor Franz von Papen and other conservative leaders persuaded President Paul von Hindenburg to appoint Hitler as chancellor on 30 January 1933., Shortly after, the Reichstag passed the Enabling Act of 1933 which began the process of transforming the Weimar Republic into Nazi Germany, a one-party dictatorship based on the totalitarian and autocratic ideology of Nazism., On 2 August 1934, Hindenburg died and Hitler replaced him as the head of state and government., Hitler aimed to eliminate Jews from Germany and establish a New Order to counter what he saw as the injustice of the post-World War I international order dominated by Britain and France., His first six years in power resulted in rapid economic recovery from the Great Depression, the abrogation of restrictions imposed on Germany after World War I, and the annexation of territories inhabited by millions of ethnic Germans, which initially gave him significant popular support.  , Hitler sought Lebensraum (lit. 'living space') for the German people in Eastern Europe, and his aggressive foreign policy is considered the primary cause of World War II in Europe., He directed large-scale rearmament and, on 1 September 1939, invaded Poland, resulting in Britain and France declaring war on Germany., In June 1941, Hitler ordered an invasion of the Soviet Union., In December 1941, he declared war on the United States., By the end of 1941, German forces and the European Axis powers occupied most of Europe and North Africa., These gains were gradually reversed after 1941, and in 1945 the Allied armies defeated the German army., On 29 April 1945, he married his longtime lover, Eva Braun, in the Führerbunker in Berlin., Less than two days later, the couple committed suicide to avoid capture by the Soviet Red Army., Their corpses were burned as Hitler had commanded.  , The historian and biographer Ian Kershaw describes Hitler as \"the embodiment of modern political evil\".[4] Under Hitler's leadership and racist ideology, the Nazi regime was responsible for the genocide of about six million Jews and millions of other victims, whom he and his followers deemed Untermenschen (subhumans) or socially undesirable., Hitler and the Nazi regime were also responsible for the killing of an estimated 19.3 million civilians and prisoners of war., In addition, 28.7 million soldiers and civilians died as a result of military action in the European theatre., The number of civilians killed during World War II was unprecedented in warfare, and the casualties constitute the deadliest conflict in history.]\n"
     ]
    }
   ],
   "source": [
    "sentence_tokens = [sent for sent in doc.sents]\n",
    "print(sentence_tokens)"
   ]
  },
  {
   "cell_type": "code",
   "execution_count": 17,
   "id": "95ecb3df",
   "metadata": {},
   "outputs": [
    {
     "name": "stdout",
     "output_type": "stream",
     "text": [
      "sentHitler was born in Braunau am Inn in Austria-Hungary and was raised near Linz. \n",
      "sentHe lived in Vienna later in the first decade of the 1900s and moved to Germany in 1913. \n",
      "sentHe was decorated during his service in the German Army in World War I. In 1919, he joined the German Workers' Party (DAP), the precursor of the Nazi Party, and was appointed leader of the Nazi Party in 1921. \n",
      "sentIn 1923, he attempted to seize governmental power in a failed coup in Munich and was imprisoned with a sentence of five years. \n",
      "sentIn jail, he dictated the first volume of his autobiography and political manifesto Mein Kampf (\"My Struggle\"). \n",
      "sentAfter his early release in 1924, Hitler gained popular support by attacking the Treaty of Versailles and promoting pan-Germanism, anti-Semitism and anti-communism with charismatic oratory and Nazi propaganda. \n",
      "sentHe frequently denounced international capitalism and communism as part of a Jewish conspiracy.   \n",
      "sentBy November 1932, the Nazi Party held the most seats in the German Reichstag but did not have a majority. \n",
      "sentAs a result, no party was able to form a majority parliamentary coalition in support of a candidate for chancellor. \n",
      "sentThe former chancellor Franz von Papen and other conservative leaders persuaded President Paul von Hindenburg to appoint Hitler as chancellor on 30 January 1933. \n",
      "sentShortly after, the Reichstag passed the Enabling Act of 1933 which began the process of transforming the Weimar Republic into Nazi Germany, a one-party dictatorship based on the totalitarian and autocratic ideology of Nazism. \n",
      "sentOn 2 August 1934, Hindenburg died and Hitler replaced him as the head of state and government. \n",
      "sentHitler aimed to eliminate Jews from Germany and establish a New Order to counter what he saw as the injustice of the post-World War I international order dominated by Britain and France. \n",
      "sentHis first six years in power resulted in rapid economic recovery from the Great Depression, the abrogation of restrictions imposed on Germany after World War I, and the annexation of territories inhabited by millions of ethnic Germans, which initially gave him significant popular support.   \n",
      "sentHitler sought Lebensraum (lit. 'living space') for the German people in Eastern Europe, and his aggressive foreign policy is considered the primary cause of World War II in Europe. \n",
      "sentHe directed large-scale rearmament and, on 1 September 1939, invaded Poland, resulting in Britain and France declaring war on Germany. \n",
      "sentIn June 1941, Hitler ordered an invasion of the Soviet Union. \n",
      "sentIn December 1941, he declared war on the United States. \n",
      "sentBy the end of 1941, German forces and the European Axis powers occupied most of Europe and North Africa. \n",
      "sentThese gains were gradually reversed after 1941, and in 1945 the Allied armies defeated the German army. \n",
      "sentOn 29 April 1945, he married his longtime lover, Eva Braun, in the Führerbunker in Berlin. \n",
      "sentLess than two days later, the couple committed suicide to avoid capture by the Soviet Red Army. \n",
      "sentTheir corpses were burned as Hitler had commanded.   \n",
      "sentThe historian and biographer Ian Kershaw describes Hitler as \"the embodiment of modern political evil\".[4] Under Hitler's leadership and racist ideology, the Nazi regime was responsible for the genocide of about six million Jews and millions of other victims, whom he and his followers deemed Untermenschen (subhumans) or socially undesirable. \n",
      "sentHitler and the Nazi regime were also responsible for the killing of an estimated 19.3 million civilians and prisoners of war. \n",
      "sentIn addition, 28.7 million soldiers and civilians died as a result of military action in the European theatre. \n",
      "sentThe number of civilians killed during World War II was unprecedented in warfare, and the casualties constitute the deadliest conflict in history. \n"
     ]
    },
    {
     "data": {
      "text/plain": [
       "{Hitler was born in Braunau am Inn in Austria-Hungary and was raised near Linz.: 0.2727272727272727,\n",
       " He lived in Vienna later in the first decade of the 1900s and moved to Germany in 1913.: 0.6363636363636365,\n",
       " He was decorated during his service in the German Army in World War I. In 1919, he joined the German Workers' Party (DAP), the precursor of the Nazi Party, and was appointed leader of the Nazi Party in 1921.: 1.6363636363636362,\n",
       " In 1923, he attempted to seize governmental power in a failed coup in Munich and was imprisoned with a sentence of five years.: 1.090909090909091,\n",
       " In jail, he dictated the first volume of his autobiography and political manifesto Mein Kampf (\"My Struggle\").: 0.6363636363636364,\n",
       " After his early release in 1924, Hitler gained popular support by attacking the Treaty of Versailles and promoting pan-Germanism, anti-Semitism and anti-communism with charismatic oratory and Nazi propaganda.: 1.909090909090909,\n",
       " He frequently denounced international capitalism and communism as part of a Jewish conspiracy.  : 1.0,\n",
       " By November 1932, the Nazi Party held the most seats in the German Reichstag but did not have a majority.: 0.6363636363636365,\n",
       " As a result, no party was able to form a majority parliamentary coalition in support of a candidate for chancellor.: 1.5454545454545454,\n",
       " The former chancellor Franz von Papen and other conservative leaders persuaded President Paul von Hindenburg to appoint Hitler as chancellor on 30 January 1933.: 1.5454545454545454,\n",
       " Shortly after, the Reichstag passed the Enabling Act of 1933 which began the process of transforming the Weimar Republic into Nazi Germany, a one-party dictatorship based on the totalitarian and autocratic ideology of Nazism.: 1.2727272727272727,\n",
       " On 2 August 1934, Hindenburg died and Hitler replaced him as the head of state and government.: 0.7272727272727274,\n",
       " Hitler aimed to eliminate Jews from Germany and establish a New Order to counter what he saw as the injustice of the post-World War I international order dominated by Britain and France.: 1.3636363636363635,\n",
       " His first six years in power resulted in rapid economic recovery from the Great Depression, the abrogation of restrictions imposed on Germany after World War I, and the annexation of territories inhabited by millions of ethnic Germans, which initially gave him significant popular support.  : 2.8181818181818175,\n",
       " Hitler sought Lebensraum (lit. 'living space') for the German people in Eastern Europe, and his aggressive foreign policy is considered the primary cause of World War II in Europe.: 1.3636363636363638,\n",
       " He directed large-scale rearmament and, on 1 September 1939, invaded Poland, resulting in Britain and France declaring war on Germany.: 1.090909090909091,\n",
       " In June 1941, Hitler ordered an invasion of the Soviet Union.: 0.5454545454545455,\n",
       " In December 1941, he declared war on the United States.: 0.7272727272727273,\n",
       " By the end of 1941, German forces and the European Axis powers occupied most of Europe and North Africa.: 0.7272727272727274,\n",
       " These gains were gradually reversed after 1941, and in 1945 the Allied armies defeated the German army.: 1.0909090909090908,\n",
       " On 29 April 1945, he married his longtime lover, Eva Braun, in the Führerbunker in Berlin.: 0.5454545454545455,\n",
       " Less than two days later, the couple committed suicide to avoid capture by the Soviet Red Army.: 0.8181818181818183,\n",
       " Their corpses were burned as Hitler had commanded.  : 0.5454545454545454,\n",
       " The historian and biographer Ian Kershaw describes Hitler as \"the embodiment of modern political evil\".[4] Under Hitler's leadership and racist ideology, the Nazi regime was responsible for the genocide of about six million Jews and millions of other victims, whom he and his followers deemed Untermenschen (subhumans) or socially undesirable.: 2.545454545454545,\n",
       " Hitler and the Nazi regime were also responsible for the killing of an estimated 19.3 million civilians and prisoners of war.: 1.5454545454545454,\n",
       " In addition, 28.7 million soldiers and civilians died as a result of military action in the European theatre.: 1.4545454545454544,\n",
       " The number of civilians killed during World War II was unprecedented in warfare, and the casualties constitute the deadliest conflict in history.: 1.3636363636363633}"
      ]
     },
     "execution_count": 17,
     "metadata": {},
     "output_type": "execute_result"
    }
   ],
   "source": [
    "sentence_scores = {}\n",
    "for sent in sentence_tokens:\n",
    "    for word in sent:\n",
    "        if word.text.lower() in word_frequencies.keys():\n",
    "            if sent not in sentence_scores.keys():\n",
    "                print(f'sent{sent} ')\n",
    "                sentence_scores[sent] = word_frequencies[word.text.lower()]\n",
    "            else:\n",
    "                sentence_scores[sent] += word_frequencies[word.text.lower()]\n",
    "                \n",
    "sentence_scores"
   ]
  },
  {
   "cell_type": "code",
   "execution_count": 18,
   "id": "100cb729",
   "metadata": {},
   "outputs": [],
   "source": [
    "from heapq import nlargest"
   ]
  },
  {
   "cell_type": "code",
   "execution_count": 19,
   "id": "48a6a1dd",
   "metadata": {},
   "outputs": [],
   "source": [
    "for i in range(100,1,-1):\n",
    "    z=1/i\n",
    "    select_length = int(len(sentence_tokens)*z)\n",
    "    summary = nlargest(select_length, sentence_scores, key = sentence_scores.get)\n",
    "    final_summary = [word.text for word in summary]\n",
    "    summary = ' '.join(final_summary)\n",
    "    if len(summary)>1:\n",
    "        b=z\n",
    "        break"
   ]
  },
  {
   "cell_type": "code",
   "execution_count": 20,
   "id": "340a46d8",
   "metadata": {},
   "outputs": [],
   "source": [
    "# select_length = int(len(sentence_tokens)*b)\n",
    "select_length = int(len(sentence_tokens)*0.5)\n",
    "select_length\n",
    "summary = nlargest(select_length, sentence_scores, key = sentence_scores.get)\n",
    "final_summary = [word.text for word in summary]\n",
    "summary = ' '.join(final_summary)"
   ]
  },
  {
   "cell_type": "code",
   "execution_count": 21,
   "id": "208ef031",
   "metadata": {},
   "outputs": [
    {
     "data": {
      "text/plain": [
       "[His first six years in power resulted in rapid economic recovery from the Great Depression, the abrogation of restrictions imposed on Germany after World War I, and the annexation of territories inhabited by millions of ethnic Germans, which initially gave him significant popular support.  ,\n",
       " The historian and biographer Ian Kershaw describes Hitler as \"the embodiment of modern political evil\".[4] Under Hitler's leadership and racist ideology, the Nazi regime was responsible for the genocide of about six million Jews and millions of other victims, whom he and his followers deemed Untermenschen (subhumans) or socially undesirable.,\n",
       " After his early release in 1924, Hitler gained popular support by attacking the Treaty of Versailles and promoting pan-Germanism, anti-Semitism and anti-communism with charismatic oratory and Nazi propaganda.,\n",
       " He was decorated during his service in the German Army in World War I. In 1919, he joined the German Workers' Party (DAP), the precursor of the Nazi Party, and was appointed leader of the Nazi Party in 1921.,\n",
       " As a result, no party was able to form a majority parliamentary coalition in support of a candidate for chancellor.,\n",
       " The former chancellor Franz von Papen and other conservative leaders persuaded President Paul von Hindenburg to appoint Hitler as chancellor on 30 January 1933.,\n",
       " Hitler and the Nazi regime were also responsible for the killing of an estimated 19.3 million civilians and prisoners of war.,\n",
       " In addition, 28.7 million soldiers and civilians died as a result of military action in the European theatre.,\n",
       " Hitler sought Lebensraum (lit. 'living space') for the German people in Eastern Europe, and his aggressive foreign policy is considered the primary cause of World War II in Europe.,\n",
       " Hitler aimed to eliminate Jews from Germany and establish a New Order to counter what he saw as the injustice of the post-World War I international order dominated by Britain and France.,\n",
       " The number of civilians killed during World War II was unprecedented in warfare, and the casualties constitute the deadliest conflict in history.,\n",
       " Shortly after, the Reichstag passed the Enabling Act of 1933 which began the process of transforming the Weimar Republic into Nazi Germany, a one-party dictatorship based on the totalitarian and autocratic ideology of Nazism.,\n",
       " In 1923, he attempted to seize governmental power in a failed coup in Munich and was imprisoned with a sentence of five years.]"
      ]
     },
     "execution_count": 21,
     "metadata": {},
     "output_type": "execute_result"
    }
   ],
   "source": [
    "summary = nlargest(select_length, sentence_scores, key = sentence_scores.get)\n",
    "summary"
   ]
  },
  {
   "cell_type": "code",
   "execution_count": 22,
   "id": "0f9e09e8",
   "metadata": {},
   "outputs": [],
   "source": [
    "final_summary = [word.text for word in summary]\n",
    "summary = ' '.join(final_summary)"
   ]
  },
  {
   "cell_type": "code",
   "execution_count": 23,
   "id": "0f848633",
   "metadata": {
    "scrolled": true
   },
   "outputs": [
    {
     "name": "stdout",
     "output_type": "stream",
     "text": [
      "Hitler was born in Braunau am Inn in Austria-Hungary and was raised near Linz. He lived in Vienna later in the first decade of the 1900s and moved to Germany in 1913. He was decorated during his service in the German Army in World War I. In 1919, he joined the German Workers' Party (DAP), the precursor of the Nazi Party, and was appointed leader of the Nazi Party in 1921. In 1923, he attempted to seize governmental power in a failed coup in Munich and was imprisoned with a sentence of five years. In jail, he dictated the first volume of his autobiography and political manifesto Mein Kampf (\"My Struggle\"). After his early release in 1924, Hitler gained popular support by attacking the Treaty of Versailles and promoting pan-Germanism, anti-Semitism and anti-communism with charismatic oratory and Nazi propaganda. He frequently denounced international capitalism and communism as part of a Jewish conspiracy.  By November 1932, the Nazi Party held the most seats in the German Reichstag but did not have a majority. As a result, no party was able to form a majority parliamentary coalition in support of a candidate for chancellor. The former chancellor Franz von Papen and other conservative leaders persuaded President Paul von Hindenburg to appoint Hitler as chancellor on 30 January 1933. Shortly after, the Reichstag passed the Enabling Act of 1933 which began the process of transforming the Weimar Republic into Nazi Germany, a one-party dictatorship based on the totalitarian and autocratic ideology of Nazism. On 2 August 1934, Hindenburg died and Hitler replaced him as the head of state and government. Hitler aimed to eliminate Jews from Germany and establish a New Order to counter what he saw as the injustice of the post-World War I international order dominated by Britain and France. His first six years in power resulted in rapid economic recovery from the Great Depression, the abrogation of restrictions imposed on Germany after World War I, and the annexation of territories inhabited by millions of ethnic Germans, which initially gave him significant popular support.  Hitler sought Lebensraum (lit. 'living space') for the German people in Eastern Europe, and his aggressive foreign policy is considered the primary cause of World War II in Europe. He directed large-scale rearmament and, on 1 September 1939, invaded Poland, resulting in Britain and France declaring war on Germany. In June 1941, Hitler ordered an invasion of the Soviet Union. In December 1941, he declared war on the United States. By the end of 1941, German forces and the European Axis powers occupied most of Europe and North Africa. These gains were gradually reversed after 1941, and in 1945 the Allied armies defeated the German army. On 29 April 1945, he married his longtime lover, Eva Braun, in the Führerbunker in Berlin. Less than two days later, the couple committed suicide to avoid capture by the Soviet Red Army. Their corpses were burned as Hitler had commanded.  The historian and biographer Ian Kershaw describes Hitler as \"the embodiment of modern political evil\".[4] Under Hitler's leadership and racist ideology, the Nazi regime was responsible for the genocide of about six million Jews and millions of other victims, whom he and his followers deemed Untermenschen (subhumans) or socially undesirable. Hitler and the Nazi regime were also responsible for the killing of an estimated 19.3 million civilians and prisoners of war. In addition, 28.7 million soldiers and civilians died as a result of military action in the European theatre. The number of civilians killed during World War II was unprecedented in warfare, and the casualties constitute the deadliest conflict in history.\n"
     ]
    }
   ],
   "source": [
    "print(text)"
   ]
  },
  {
   "cell_type": "code",
   "execution_count": 24,
   "id": "9108d0c5",
   "metadata": {},
   "outputs": [
    {
     "name": "stdout",
     "output_type": "stream",
     "text": [
      "His first six years in power resulted in rapid economic recovery from the Great Depression, the abrogation of restrictions imposed on Germany after World War I, and the annexation of territories inhabited by millions of ethnic Germans, which initially gave him significant popular support.   The historian and biographer Ian Kershaw describes Hitler as \"the embodiment of modern political evil\".[4] Under Hitler's leadership and racist ideology, the Nazi regime was responsible for the genocide of about six million Jews and millions of other victims, whom he and his followers deemed Untermenschen (subhumans) or socially undesirable. After his early release in 1924, Hitler gained popular support by attacking the Treaty of Versailles and promoting pan-Germanism, anti-Semitism and anti-communism with charismatic oratory and Nazi propaganda. He was decorated during his service in the German Army in World War I. In 1919, he joined the German Workers' Party (DAP), the precursor of the Nazi Party, and was appointed leader of the Nazi Party in 1921. As a result, no party was able to form a majority parliamentary coalition in support of a candidate for chancellor. The former chancellor Franz von Papen and other conservative leaders persuaded President Paul von Hindenburg to appoint Hitler as chancellor on 30 January 1933. Hitler and the Nazi regime were also responsible for the killing of an estimated 19.3 million civilians and prisoners of war. In addition, 28.7 million soldiers and civilians died as a result of military action in the European theatre. Hitler sought Lebensraum (lit. 'living space') for the German people in Eastern Europe, and his aggressive foreign policy is considered the primary cause of World War II in Europe. Hitler aimed to eliminate Jews from Germany and establish a New Order to counter what he saw as the injustice of the post-World War I international order dominated by Britain and France. The number of civilians killed during World War II was unprecedented in warfare, and the casualties constitute the deadliest conflict in history. Shortly after, the Reichstag passed the Enabling Act of 1933 which began the process of transforming the Weimar Republic into Nazi Germany, a one-party dictatorship based on the totalitarian and autocratic ideology of Nazism. In 1923, he attempted to seize governmental power in a failed coup in Munich and was imprisoned with a sentence of five years.\n"
     ]
    }
   ],
   "source": [
    "print(summary)"
   ]
  },
  {
   "cell_type": "code",
   "execution_count": 25,
   "id": "dc30bd89",
   "metadata": {},
   "outputs": [
    {
     "data": {
      "text/plain": [
       "3707"
      ]
     },
     "execution_count": 25,
     "metadata": {},
     "output_type": "execute_result"
    }
   ],
   "source": [
    "len(text)"
   ]
  },
  {
   "cell_type": "code",
   "execution_count": 26,
   "id": "ab6ed377",
   "metadata": {},
   "outputs": [
    {
     "data": {
      "text/plain": [
       "2432"
      ]
     },
     "execution_count": 26,
     "metadata": {},
     "output_type": "execute_result"
    }
   ],
   "source": [
    "len(summary)"
   ]
  },
  {
   "cell_type": "code",
   "execution_count": 27,
   "id": "4f45b2c2",
   "metadata": {},
   "outputs": [
    {
     "data": {
      "text/plain": [
       "dict_keys(['Hitler', 'born', 'Braunau', 'Inn', 'Austria', 'Hungary', 'raised', 'near', 'Linz', 'lived', 'Vienna', 'later', 'decade', '1900s', 'moved', 'Germany', '1913', 'decorated', 'service', 'German', 'Army', 'World', 'War', 'I.', '1919', 'joined', 'Workers', 'Party', 'DAP', 'precursor', 'Nazi', 'appointed', 'leader', '1921', '1923', 'attempted', 'seize', 'governmental', 'power', 'failed', 'coup', 'Munich', 'imprisoned', 'sentence', 'years', 'jail', 'dictated', 'volume', 'autobiography', 'political', 'manifesto', 'Mein', 'Kampf', 'Struggle', 'early', 'release', '1924', 'gained', 'popular', 'support', 'attacking', 'Treaty', 'Versailles', 'promoting', 'pan', 'Germanism', 'anti', 'Semitism', 'communism', 'charismatic', 'oratory', 'propaganda', 'frequently', 'denounced', 'international', 'capitalism', 'Jewish', 'conspiracy', ' ', 'November', '1932', 'held', 'seats', 'Reichstag', 'majority', 'result', 'party', 'able', 'form', 'parliamentary', 'coalition', 'candidate', 'chancellor', 'Franz', 'von', 'Papen', 'conservative', 'leaders', 'persuaded', 'President', 'Paul', 'Hindenburg', 'appoint', '30', 'January', '1933', 'Shortly', 'passed', 'Enabling', 'Act', 'began', 'process', 'transforming', 'Weimar', 'Republic', 'dictatorship', 'based', 'totalitarian', 'autocratic', 'ideology', 'Nazism', '2', 'August', '1934', 'died', 'replaced', 'head', 'state', 'government', 'aimed', 'eliminate', 'Jews', 'establish', 'New', 'Order', 'counter', 'saw', 'injustice', 'post', 'order', 'dominated', 'Britain', 'France', 'resulted', 'rapid', 'economic', 'recovery', 'Great', 'Depression', 'abrogation', 'restrictions', 'imposed', 'annexation', 'territories', 'inhabited', 'millions', 'ethnic', 'Germans', 'initially', 'gave', 'significant', 'sought', 'Lebensraum', 'lit', '\\u2009', 'living', 'space', 'people', 'Eastern', 'Europe', 'aggressive', 'foreign', 'policy', 'considered', 'primary', 'cause', 'II', 'directed', 'large', 'scale', 'rearmament', '1', 'September', '1939', 'invaded', 'Poland', 'resulting', 'declaring', 'war', 'June', '1941', 'ordered', 'invasion', 'Soviet', 'Union', 'December', 'declared', 'United', 'States', 'end', 'forces', 'European', 'Axis', 'powers', 'occupied', 'North', 'Africa', 'gains', 'gradually', 'reversed', '1945', 'Allied', 'armies', 'defeated', 'army', '29', 'April', 'married', 'longtime', 'lover', 'Eva', 'Braun', 'Führerbunker', 'Berlin', 'days', 'couple', 'committed', 'suicide', 'avoid', 'capture', 'Red', 'corpses', 'burned', 'commanded', 'historian', 'biographer', 'Ian', 'Kershaw', 'describes', 'embodiment', 'modern', 'evil\".[4', 'leadership', 'racist', 'regime', 'responsible', 'genocide', 'million', 'victims', 'followers', 'deemed', 'Untermenschen', 'subhumans', 'socially', 'undesirable', 'killing', 'estimated', '19.3', 'civilians', 'prisoners', 'addition', '28.7', 'soldiers', 'military', 'action', 'theatre', 'number', 'killed', 'unprecedented', 'warfare', 'casualties', 'constitute', 'deadliest', 'conflict', 'history'])"
      ]
     },
     "execution_count": 27,
     "metadata": {},
     "output_type": "execute_result"
    }
   ],
   "source": [
    "word_frequencies.keys()"
   ]
  },
  {
   "cell_type": "code",
   "execution_count": null,
   "id": "2e6b5287",
   "metadata": {},
   "outputs": [],
   "source": []
  },
  {
   "cell_type": "code",
   "execution_count": null,
   "id": "a600aa7e",
   "metadata": {},
   "outputs": [],
   "source": []
  },
  {
   "cell_type": "code",
   "execution_count": null,
   "id": "8d60a6f0",
   "metadata": {},
   "outputs": [],
   "source": []
  }
 ],
 "metadata": {
  "kernelspec": {
   "display_name": "Python 3 (ipykernel)",
   "language": "python",
   "name": "python3"
  },
  "language_info": {
   "codemirror_mode": {
    "name": "ipython",
    "version": 3
   },
   "file_extension": ".py",
   "mimetype": "text/x-python",
   "name": "python",
   "nbconvert_exporter": "python",
   "pygments_lexer": "ipython3",
   "version": "3.9.16"
  }
 },
 "nbformat": 4,
 "nbformat_minor": 5
}
