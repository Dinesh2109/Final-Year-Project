{
 "cells": [
  {
   "cell_type": "markdown",
   "id": "652e7900",
   "metadata": {},
   "source": [
    "# Other Language to English Text Translation"
   ]
  },
  {
   "cell_type": "code",
   "execution_count": 1,
   "id": "9ab62e4a",
   "metadata": {},
   "outputs": [
    {
     "name": "stdout",
     "output_type": "stream",
     "text": [
      "Enter the text : 王明：这是什么？ 李红：这是书。 王明：那是什么？ 李红：那是钢笔。 王明：那是杂志吗？ 李红：不，那不是杂志。那是字典。\n",
      "Wang Ming: What is this? Li Hong: This is a book. Wang Ming: What is that? Li Hong: That is a pen. Wang Ming: Is that a magazine? Li Hong: No, that's not a magazine. That's a dictionary.\n",
      "Enter the text : stop\n"
     ]
    }
   ],
   "source": [
    "import pyttsx3\n",
    "from googletrans import Translator\n",
    "\n",
    "translator = Translator()\n",
    "\n",
    "while True:\n",
    "    sent = str(input(\"Enter the text : \"))\n",
    "    sent = sent.lower()\n",
    "    if sent == 'stop':\n",
    "        break\n",
    "    else:      \n",
    "        out = translator.translate(sent, dest='en')\n",
    "        val = out.text\n",
    "        print(val)\n",
    "        engine = pyttsx3.init()\n",
    "        engine.setProperty('rate', 130)\n",
    "        engine.say(val)\n",
    "        engine.runAndWait()"
   ]
  },
  {
   "cell_type": "markdown",
   "id": "b6f7f698",
   "metadata": {},
   "source": [
    "# English to Tamil Translate"
   ]
  },
  {
   "cell_type": "code",
   "execution_count": 2,
   "id": "3450bcbb",
   "metadata": {},
   "outputs": [
    {
     "name": "stdout",
     "output_type": "stream",
     "text": [
      "Enter the text : What is this? Li Hong: This is a book. Wang Ming: What is that? Li Hong: That is a pen. Wang Ming: Is that a magazine? Li Hong: No, that's not a magazine. That's a dictionary. Enter the text : stop\n",
      "यह क्या है? ली होंग: यह एक किताब है। वांग मिंग: वह क्या है? ली होंग: वह एक पेन है। वांग मिंग: क्या वह पत्रिका है? ली होंग: नहीं, यह कोई पत्रिका नहीं है। वह एक शब्दकोष है। टेक्स्ट दर्ज करें: रुकें\n",
      "Enter the text : stop\n"
     ]
    }
   ],
   "source": [
    "from googletrans import Translator\n",
    "\n",
    "translator = Translator()\n",
    "\n",
    "while True:\n",
    "    sent = str(input(\"Enter the text : \"))\n",
    "    sent = sent.lower()\n",
    "    if sent == 'stop':\n",
    "        break\n",
    "    else:      \n",
    "        out = translator.translate(sent, dest='hi')\n",
    "        val = out.text\n",
    "        print(val)"
   ]
  },
  {
   "cell_type": "code",
   "execution_count": null,
   "id": "40fb3957",
   "metadata": {},
   "outputs": [],
   "source": []
  },
  {
   "cell_type": "code",
   "execution_count": null,
   "id": "a0cbe219",
   "metadata": {},
   "outputs": [],
   "source": []
  },
  {
   "cell_type": "code",
   "execution_count": null,
   "id": "26f9e2f2",
   "metadata": {},
   "outputs": [],
   "source": []
  }
 ],
 "metadata": {
  "kernelspec": {
   "display_name": "Python 3 (ipykernel)",
   "language": "python",
   "name": "python3"
  },
  "language_info": {
   "codemirror_mode": {
    "name": "ipython",
    "version": 3
   },
   "file_extension": ".py",
   "mimetype": "text/x-python",
   "name": "python",
   "nbconvert_exporter": "python",
   "pygments_lexer": "ipython3",
   "version": "3.9.16"
  }
 },
 "nbformat": 4,
 "nbformat_minor": 5
}
